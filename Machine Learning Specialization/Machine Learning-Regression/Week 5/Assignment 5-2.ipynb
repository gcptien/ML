{
 "cells": [
  {
   "cell_type": "code",
   "execution_count": 1,
   "metadata": {
    "collapsed": true
   },
   "outputs": [],
   "source": [
    "import pandas as pd\n",
    "import numpy as np\n",
    "import matplotlib.pyplot as plt\n",
    "from math import log, sqrt\n",
    "%matplotlib inline\n",
    "from sklearn import linear_model # using scikit-learn\n",
    "dtype_dict = {'bathrooms':float, 'waterfront':int, 'sqft_above':int,\n",
    "'sqft_living15':float, 'grade':int, 'yr_renovated':int, 'price':float,\n",
    "'bedrooms':float, 'zipcode':str, 'long':float, 'sqft_lot15':float,\n",
    "'sqft_living':float, 'floors':float, 'condition':int, 'lat':float, 'date':str,\n",
    "'sqft_basement':int, 'yr_built':int, 'id':str, 'sqft_lot':int, 'view':int}\n",
    "\n",
    "all_features = ['bedrooms', 'bedrooms_square', 'bathrooms',\n",
    "'sqft_living', 'sqft_living_sqrt', 'sqft_lot', 'sqft_lot_sqrt',\n",
    "'floors', 'floors_square', 'waterfront', 'view', 'condition', 'grade',\n",
    "'sqft_above', 'sqft_basement', 'yr_built', 'yr_renovated']\n",
    "\n",
    "sales = pd.read_csv('kc_house_data.csv',dtype=dtype_dict)\n",
    "X_train = pd.read_csv('kc_house_train_data.csv', dtype=dtype_dict)\n",
    "X_test = pd.read_csv('kc_house_test_data.csv',dtype=dtype_dict)"
   ]
  },
  {
   "cell_type": "code",
   "execution_count": 2,
   "metadata": {
    "collapsed": true
   },
   "outputs": [],
   "source": [
    "def get_numpy_data(df, features, output):\n",
    "    df['constant'] = 1 # add a constant column to an SFrame\n",
    "    # prepend variable 'constant' to the features list\n",
    "    features = ['constant'] + features\n",
    "    # select the columns of data_SFrame given by the ‘features’ list into the SFrame ‘features_sframe’\n",
    "    features_matrix = df[features].as_matrix()\n",
    "    output_array = df[output].as_matrix()\n",
    "    return(features_matrix, output_array)\n"
   ]
  },
  {
   "cell_type": "code",
   "execution_count": 3,
   "metadata": {
    "collapsed": true
   },
   "outputs": [],
   "source": [
    "def predict_output(feature_matrix, weights):\n",
    "    predictions = np.dot(feature_matrix, weights)\n",
    "    return predictions"
   ]
  },
  {
   "cell_type": "code",
   "execution_count": 4,
   "metadata": {
    "collapsed": true
   },
   "outputs": [],
   "source": [
    "def feature_derivative(errors, feature):\n",
    "    derivative = 2* np.dot(errors, feature)\n",
    "    return derivative"
   ]
  },
  {
   "cell_type": "code",
   "execution_count": 5,
   "metadata": {
    "collapsed": true
   },
   "outputs": [],
   "source": [
    "def normalize_features(feature_matrix):\n",
    "    norms = np.linalg.norm(feature_matrix, axis=0)\n",
    "    normalize_features = feature_matrix / norms\n",
    "    return normalize_features, norms"
   ]
  },
  {
   "cell_type": "markdown",
   "metadata": {},
   "source": [
    "# Effect of L1 penalty\n",
    "## 9. Consider a simple model with 2 features: ‘sqft_living’ and ‘bedrooms’. The output is ‘price’.\n",
    "\n",
    "- First, run get_numpy_data() (or equivalent) to obtain a feature matrix with 3 columns (constant column added). Use the entire ‘sales’ dataset for now.\n",
    "- Normalize columns of the feature matrix. Save the norms of original features as ‘norms’.\n",
    "- Set initial weights to [1,4,1].\n",
    "- Make predictions with feature matrix and initial weights.\n",
    "- Compute values of ro[i], where\n",
    "\n",
    "ro[i] = SUM[ [feature_i]*(output - prediction + w[i]*[feature_i]) ]"
   ]
  },
  {
   "cell_type": "code",
   "execution_count": 6,
   "metadata": {},
   "outputs": [
    {
     "data": {
      "text/plain": [
       "[79400446.028127789, 87940004.766660035, 80966839.384621024]"
      ]
     },
     "execution_count": 6,
     "metadata": {},
     "output_type": "execute_result"
    }
   ],
   "source": [
    "ro =[]\n",
    "simple_features = ['sqft_living','bedrooms']\n",
    "feature_matrix, output = get_numpy_data(sales,simple_features,'price')\n",
    "norm_feature_matrix, norms = normalize_features(feature_matrix)\n",
    "initial_weights = [1. ,4. ,1.]\n",
    "predictions = predict_output(norm_feature_matrix,initial_weights)\n",
    "for i in range(norm_feature_matrix.shape[1]):\n",
    "    ro.append(sum(norm_feature_matrix[:,i] * (output - predictions) +\n",
    "                     norm_feature_matrix[:,i] * initial_weights[i]))\n",
    "ro"
   ]
  },
  {
   "cell_type": "markdown",
   "metadata": {},
   "source": [
    "### 10. Quiz Question: Recall that, whenever $\\rho[i]$ falls between $\\frac{-l1\\_penalty}{2}$ and $\\frac{l1\\_penalty}{2}$, the corresponding weight w[i] is sent to zero. Now suppose we were to take one step of coordinate descent on either feature 1 or feature 2. What range of values of l1_penalty would not set w[1] zero, but would set w[2] to zero, if we were to take a step in that coordinate?\n",
    "\n",
    "<font color=red>For w[1] to be zero, we need $\\rho[1]$ in [$-\\lambda/2$, $\\lambda/2$]\n",
    "<br>\n",
    "We have $-\\frac{\\lambda}{2} \\leq \\rho[1] \\leq \\frac{\\lambda}{2}$\n",
    "<br>\n",
    "This translates to $\\lambda \\geq -2\\rho[1]$ and $\\lambda \\geq 2\\rho[1]$\n",
    "<br>\n",
    "For both conditions to be satisfied, $\\lambda \\geq 2\\rho[1] = 1.75\\times10^8$\n",
    "<br>\n",
    "Similarly for w[2]. $\\lambda \\geq 2\\rho[2] = 1.62\\times10^8$\n",
    "<br>\n",
    "So, $w[i] = 0$ if $\\lambda \\geq 2 \\times|\\rho[i]|$</font>\n",
    "\n"
   ]
  },
  {
   "cell_type": "code",
   "execution_count": 27,
   "metadata": {},
   "outputs": [
    {
     "name": "stdout",
     "output_type": "stream",
     "text": [
      "False False\n",
      "False True\n",
      "False True\n",
      "True True\n",
      "True True\n"
     ]
    }
   ],
   "source": [
    "def in_l1range(value, penalty):\n",
    "    return ( (value >= -penalty/2.) and (value <= penalty/2.) )\n",
    "\n",
    "for l1_penalty in [1.4e8, 1.64e8, 1.73e8, 1.9e8, 2.3e8]:\n",
    "    print( in_l1range(ro[1], l1_penalty), in_l1range(ro[2], l1_penalty))"
   ]
  },
  {
   "cell_type": "markdown",
   "metadata": {},
   "source": [
    "### 11. Quiz Question: What range of values of l1_penalty would set both w[1] and w[2] to zero, if we were to take a step in that coordinate?"
   ]
  },
  {
   "cell_type": "code",
   "execution_count": 29,
   "metadata": {},
   "outputs": [
    {
     "name": "stdout",
     "output_type": "stream",
     "text": [
      "True True\n",
      "True True\n",
      "True True\n",
      "False False\n",
      "False False\n"
     ]
    }
   ],
   "source": [
    "def in_l1range(value, penalty):\n",
    "    return ( (value >= -penalty/2.) and (value >= penalty/2.) )\n",
    "\n",
    "for l1_penalty in [1.4e8, 1.64e8, 1.73e8, 1.9e8, 2.3e8]:\n",
    "    print( in_l1range(ro[1], l1_penalty), in_l1range(ro[1], l1_penalty))"
   ]
  },
  {
   "cell_type": "code",
   "execution_count": 39,
   "metadata": {
    "collapsed": true
   },
   "outputs": [],
   "source": [
    "def lasso_coordinate_descent_step(i, feature_matrix, output, weights, l1_penalty):\n",
    "    # compute prediction\n",
    "    prediction = predict_output(feature_matrix,weights)\n",
    "    # compute ro[i] = SUM[ [feature_i]*(output - prediction + weight[i]*[feature_i]) ]\n",
    "    ro_i = sum((feature_matrix[:,i] * ((output - prediction) + feature_matrix[:,i]* weights[i])))\n",
    "    \n",
    "    if i == 0: # intercept -- do not regularize\n",
    "        new_weight_i = ro_i\n",
    "    elif ro_i < -l1_penalty/2.:\n",
    "        new_weight_i = ro_i + l1_penalty/2.\n",
    "    elif ro_i > l1_penalty/2.:\n",
    "        new_weight_i = ro_i - l1_penalty/2.\n",
    "    else:\n",
    "        new_weight_i = 0.\n",
    "    \n",
    "    return new_weight_i"
   ]
  },
  {
   "cell_type": "code",
   "execution_count": 40,
   "metadata": {},
   "outputs": [
    {
     "data": {
      "text/plain": [
       "0.42555884669102512"
      ]
     },
     "execution_count": 40,
     "metadata": {},
     "output_type": "execute_result"
    }
   ],
   "source": [
    "# should print 0.425558846691\n",
    "\n",
    "import math\n",
    "lasso_coordinate_descent_step(1, np.array([[3./math.sqrt(13),1./math.sqrt(10)],\n",
    "                   [2./math.sqrt(13),3./math.sqrt(10)]]), np.array([1., 1.]), np.array([1., 4.]), 0.1)"
   ]
  },
  {
   "cell_type": "markdown",
   "metadata": {},
   "source": [
    "## Cyclical coordinate descent\n",
    "### 13. Now that we have a function that optimizes the cost function over a single coordinate, let us implement cyclical coordinate descent where we optimize coordinates 0, 1, ..., (d-1) in order and repeat.\n",
    "\n",
    "When do we know to stop? Each time we scan all the coordinates (features) once, we measure the change in weight for each coordinate. If no coordinate changes by more than a specified threshold, we stop.\n",
    "\n",
    "For each iteration:\n",
    "\n",
    "- As you loop over features in order and perform coordinate descent, measure how much each coordinate changes.\n",
    "- After the loop, if the maximum change across all coordinates is falls below the tolerance, stop. Otherwise, go back to the previous step.\n",
    "- Return weights\n",
    "\n",
    "The function should accept the following parameters:\n",
    "\n",
    "- Feature matrix\n",
    "- Output array\n",
    "- Initial weights\n",
    "- L1 penalty\n",
    "- Tolerance"
   ]
  },
  {
   "cell_type": "code",
   "execution_count": 45,
   "metadata": {
    "collapsed": true
   },
   "outputs": [],
   "source": [
    "def lasso_cyclical_coordinate_descent(feature_matrix, output, initial_weights, l1_penalty, tolerance):\n",
    "    D = feature_matrix.shape[1]\n",
    "    weights = np.array(initial_weights)\n",
    "    change = np.array(initial_weights) * 0.0\n",
    "    converged = False\n",
    "    \n",
    "    while not converged:\n",
    "        for i in range(D):\n",
    "            new_weight = lasso_coordinate_descent_step(i, feature_matrix, output, weights, l1_penalty)\n",
    "            change[i] = np.abs(new_weight - weights[i])\n",
    "            weights[i] = new_weight\n",
    "        max_change = max(change)\n",
    "        if max_change < tolerance:\n",
    "            converged = True\n",
    "    return weights\n"
   ]
  },
  {
   "cell_type": "code",
   "execution_count": 46,
   "metadata": {
    "collapsed": true
   },
   "outputs": [],
   "source": [
    "simple_features = ['sqft_living', 'bedrooms']\n",
    "my_output = 'price'\n",
    "initial_weights = np.zeros(3)\n",
    "l1_penalty = 1e7\n",
    "tolerance = 1.0"
   ]
  },
  {
   "cell_type": "markdown",
   "metadata": {},
   "source": [
    "### 15. Quiz Question: What is the RSS of the learned model on the normalized dataset?\n",
    "\n",
    "### 16. Quiz Question: Which features had weight zero at convergence? \n",
    "<font color=red>feature 2: bedrooms</font>"
   ]
  },
  {
   "cell_type": "code",
   "execution_count": 47,
   "metadata": {
    "collapsed": true
   },
   "outputs": [],
   "source": [
    "simple_features_matrix, output = get_numpy_data(sales, simple_features, my_output)\n",
    "norm_simple_features_matrix, simple_norms = normalize_features(simple_features_matrix)"
   ]
  },
  {
   "cell_type": "code",
   "execution_count": 49,
   "metadata": {},
   "outputs": [
    {
     "data": {
      "text/plain": [
       "array([ 21624997.95951872,  63157247.20788978,         0.        ])"
      ]
     },
     "execution_count": 49,
     "metadata": {},
     "output_type": "execute_result"
    }
   ],
   "source": [
    "weights = lasso_cyclical_coordinate_descent(norm_simple_features_matrix, output,\n",
    "                                            initial_weights, l1_penalty, tolerance)\n",
    "weights"
   ]
  },
  {
   "cell_type": "code",
   "execution_count": 51,
   "metadata": {},
   "outputs": [
    {
     "data": {
      "text/plain": [
       "1630492476715384.8"
      ]
     },
     "execution_count": 51,
     "metadata": {},
     "output_type": "execute_result"
    }
   ],
   "source": [
    "# RSS\n",
    "RSS = np.dot(output - predict_output(norm_simple_features_matrix,weights),\n",
    "             output - predict_output(norm_simple_features_matrix,weights))\n",
    "RSS\n"
   ]
  },
  {
   "cell_type": "markdown",
   "metadata": {},
   "source": [
    "# Evaluating LASSO fit with more features\n"
   ]
  },
  {
   "cell_type": "code",
   "execution_count": 77,
   "metadata": {},
   "outputs": [
    {
     "data": {
      "text/plain": [
       "['w0',\n",
       " 'bedrooms',\n",
       " 'bathrooms',\n",
       " 'sqft_living',\n",
       " 'sqft_lot',\n",
       " 'floors',\n",
       " 'waterfront',\n",
       " 'view',\n",
       " 'condition',\n",
       " 'grade',\n",
       " 'sqft_above',\n",
       " 'sqft_basement',\n",
       " 'yr_built',\n",
       " 'yr_renovated']"
      ]
     },
     "execution_count": 77,
     "metadata": {},
     "output_type": "execute_result"
    }
   ],
   "source": [
    "all_features = ['bedrooms',\n",
    "                'bathrooms',\n",
    "                'sqft_living',\n",
    "                'sqft_lot',\n",
    "                'floors',\n",
    "                'waterfront', \n",
    "                'view', \n",
    "                'condition', \n",
    "                'grade',\n",
    "                'sqft_above',\n",
    "                'sqft_basement',\n",
    "                'yr_built', \n",
    "                'yr_renovated']\n",
    "feature_list=['w0']+all_features\n",
    "feature_list"
   ]
  },
  {
   "cell_type": "code",
   "execution_count": 53,
   "metadata": {
    "collapsed": true
   },
   "outputs": [],
   "source": [
    "all_features_matrix, output = get_numpy_data(X_train, all_features, my_output)\n",
    "norm_all_features_matrix, all_norms = normalize_features(all_features_matrix)"
   ]
  },
  {
   "cell_type": "markdown",
   "metadata": {},
   "source": [
    "### 19. First, learn the weights with l1_penalty=1e7, on the training data. Initialize weights to all zeros, and set the tolerance=1. Call resulting weights’ weights1e7’, you will need them later."
   ]
  },
  {
   "cell_type": "code",
   "execution_count": 78,
   "metadata": {
    "collapsed": true
   },
   "outputs": [],
   "source": [
    "l1_penalty = 1e7\n",
    "initial_weights = np.zeros(len(feature_list))\n",
    "tolerance = 1\n",
    "\n",
    "weights1e7 = lasso_cyclical_coordinate_descent(norm_all_features_matrix, output,\n",
    "                                            initial_weights, l1_penalty, tolerance)"
   ]
  },
  {
   "cell_type": "markdown",
   "metadata": {},
   "source": [
    "#### 20. Quiz Question: What features had non-zero weight in this case?\n",
    "\n"
   ]
  },
  {
   "cell_type": "code",
   "execution_count": 79,
   "metadata": {},
   "outputs": [
    {
     "data": {
      "text/plain": [
       "['w0', 'sqft_living', 'waterfront', 'view']"
      ]
     },
     "execution_count": 79,
     "metadata": {},
     "output_type": "execute_result"
    }
   ],
   "source": [
    "def non_zero_features(weights):\n",
    "    answer =[]\n",
    "    for i,n in enumerate(weights):\n",
    "        if n != 0:\n",
    "            answer.append(feature_list[i])  \n",
    "    return answer\n",
    "non_zero_features(weights1e7)"
   ]
  },
  {
   "cell_type": "markdown",
   "metadata": {},
   "source": [
    "### 21. Next, learn the weights with l1_penalty=1e8, on the training data. Initialize weights to all zeros, and set the tolerance=1. Call resulting weights ‘weights1e8’, you will need them later.\n",
    "\n",
    "#### 22. Quiz Question: What features had non-zero weight in this case?"
   ]
  },
  {
   "cell_type": "code",
   "execution_count": 81,
   "metadata": {},
   "outputs": [
    {
     "data": {
      "text/plain": [
       "['w0']"
      ]
     },
     "execution_count": 81,
     "metadata": {},
     "output_type": "execute_result"
    }
   ],
   "source": [
    "l1_penalty = 1e8\n",
    "initial_weights = np.zeros(len(feature_list))\n",
    "tolerance = 1\n",
    "weights1e8 = lasso_cyclical_coordinate_descent(norm_all_features_matrix, output,\n",
    "                                            initial_weights, l1_penalty, tolerance)\n",
    "non_zero_features(weights1e8)"
   ]
  },
  {
   "cell_type": "markdown",
   "metadata": {},
   "source": [
    "### 23. Finally, learn the weights with l1_penalty=1e4, on the training data. Initialize weights to all zeros, and set the tolerance=5e5. Call resulting weights ‘weights1e4’, you will need them later. (This case will take quite a bit longer to converge than the others above.)\n",
    "\n",
    "#### 24. Quiz Question: What features had non-zero weight in this case?"
   ]
  },
  {
   "cell_type": "code",
   "execution_count": 82,
   "metadata": {},
   "outputs": [
    {
     "data": {
      "text/plain": [
       "['w0',\n",
       " 'bedrooms',\n",
       " 'bathrooms',\n",
       " 'sqft_living',\n",
       " 'sqft_lot',\n",
       " 'floors',\n",
       " 'waterfront',\n",
       " 'view',\n",
       " 'condition',\n",
       " 'grade',\n",
       " 'sqft_above',\n",
       " 'sqft_basement',\n",
       " 'yr_built',\n",
       " 'yr_renovated']"
      ]
     },
     "execution_count": 82,
     "metadata": {},
     "output_type": "execute_result"
    }
   ],
   "source": [
    "l1_penalty = 1e4\n",
    "initial_weights = np.zeros(len(feature_list))\n",
    "tolerance = 5e5\n",
    "weights1e4 = lasso_cyclical_coordinate_descent(norm_all_features_matrix, output,\n",
    "                                            initial_weights, l1_penalty, tolerance)\n",
    "non_zero_features(weights1e4)"
   ]
  },
  {
   "cell_type": "markdown",
   "metadata": {},
   "source": [
    "# Rescaling learned weights\n"
   ]
  },
  {
   "cell_type": "markdown",
   "metadata": {},
   "source": [
    "### 25. Recall that we normalized our feature matrix, before learning the weights. To use these weights on a test set, we must normalize the test data in the same way. Alternatively, we can rescale the learned weights to include the normalization, so we never have to worry about normalizing the test data:\n",
    "\n",
    "In this case, we must scale the resulting weights so that we can make predictions with original features:\n",
    "\n",
    "- Store the norms of the original features to a vector called ‘norms’:\n",
    "        features, norms = normalize_features(features)\n",
    "- Run Lasso on the normalized features and obtain a ‘weights’ vector\n",
    "- Compute the weights for the original features by performing element-wise division, i.e.\n",
    "        weights_normalized = weights / norms"
   ]
  },
  {
   "cell_type": "code",
   "execution_count": 83,
   "metadata": {},
   "outputs": [
    {
     "name": "stdout",
     "output_type": "stream",
     "text": [
      "161.317457646\n"
     ]
    }
   ],
   "source": [
    "my_output = 'price'\n",
    "(feature_matrix, output) = get_numpy_data(X_train, all_features, my_output)\n",
    "normalized_feature_matrix, norms = normalize_features(feature_matrix)\n",
    "\n",
    "normalized_weights1e7 = weights1e7 / norms\n",
    "normalized_weights1e8 = weights1e8 / norms\n",
    "normalized_weights1e4 = weights1e4 / norms\n",
    "print(normalized_weights1e7[3])"
   ]
  },
  {
   "cell_type": "markdown",
   "metadata": {},
   "source": [
    "To check your results, if you call normalized_weights1e7 the normalized version of weights1e7, then:\n",
    "\n",
    "print normalized_weights1e7[3]\n",
    "should return 161.31745624837794."
   ]
  },
  {
   "cell_type": "markdown",
   "metadata": {},
   "source": [
    "# Evaluating each of the learned models on the test data¶\n"
   ]
  },
  {
   "cell_type": "code",
   "execution_count": 84,
   "metadata": {
    "collapsed": true
   },
   "outputs": [],
   "source": [
    "(test_feature_matrix, test_output) = get_numpy_data(X_test, all_features, 'price')\n"
   ]
  },
  {
   "cell_type": "code",
   "execution_count": 85,
   "metadata": {},
   "outputs": [
    {
     "name": "stdout",
     "output_type": "stream",
     "text": [
      "Weight 1e7 RSS:  2.7596207592e+14\n",
      "Weight 1e8 RSS:  5.37166151497e+14\n",
      "Weight 1e4 RSS:  2.28459958971e+14\n"
     ]
    }
   ],
   "source": [
    "prediction =  predict_output(test_feature_matrix, normalized_weights1e7)\n",
    "RSS1e7 = np.dot(test_output-prediction, test_output-prediction)\n",
    "prediction =  predict_output(test_feature_matrix, normalized_weights1e8)\n",
    "RSS1e8 = np.dot(test_output-prediction, test_output-prediction)\n",
    "prediction =  predict_output(test_feature_matrix, normalized_weights1e4)\n",
    "RSS1e4 = np.dot(test_output-prediction, test_output-prediction)\n",
    "print('Weight 1e7 RSS: ', RSS1e7)\n",
    "print('Weight 1e8 RSS: ', RSS1e8)\n",
    "print('Weight 1e4 RSS: ', RSS1e4)"
   ]
  },
  {
   "cell_type": "markdown",
   "metadata": {},
   "source": [
    "#### 28. Quiz Question: Which model performed best on the test data?\n",
    "\n",
    "   <font color=red>1e4</font>"
   ]
  },
  {
   "cell_type": "code",
   "execution_count": null,
   "metadata": {
    "collapsed": true
   },
   "outputs": [],
   "source": []
  }
 ],
 "metadata": {
  "kernelspec": {
   "display_name": "Python 3",
   "language": "python",
   "name": "python3"
  },
  "language_info": {
   "codemirror_mode": {
    "name": "ipython",
    "version": 3
   },
   "file_extension": ".py",
   "mimetype": "text/x-python",
   "name": "python",
   "nbconvert_exporter": "python",
   "pygments_lexer": "ipython3",
   "version": "3.6.3"
  }
 },
 "nbformat": 4,
 "nbformat_minor": 2
}
