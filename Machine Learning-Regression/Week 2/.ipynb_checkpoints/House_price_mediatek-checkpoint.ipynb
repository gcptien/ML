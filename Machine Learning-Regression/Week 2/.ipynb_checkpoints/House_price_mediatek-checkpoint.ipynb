{
 "cells": [
  {
   "cell_type": "code",
   "execution_count": 1,
   "metadata": {
    "collapsed": true
   },
   "outputs": [],
   "source": [
    "import pandas as pd\n",
    "import numpy as np\n",
    "from math import log\n",
    "from sklearn.linear_model import LinearRegression\n",
    "\n",
    "dtype_dict = {'bathrooms':float, 'waterfront':int, 'sqft_above':int, 'sqft_living15':float, 'grade':int, \n",
    "              'yr_renovated':int, 'price':float, 'bedrooms':float, 'zipcode':str, 'long':float, \n",
    "              'sqft_lot15':float, 'sqft_living':float, 'floors':str, 'condition':int, 'lat':float, 'date':str, \n",
    "              'sqft_basement':int, 'yr_built':int, 'id':str, 'sqft_lot':int, 'view':int}"
   ]
  },
  {
   "cell_type": "code",
   "execution_count": 40,
   "metadata": {
    "collapsed": true
   },
   "outputs": [],
   "source": [
    "X_train = pd.read_csv(\"kc_house_train_data.csv\",dtype=dtype_dict)\n",
    "X_test = pd.read_csv(\"kc_house_test_data.csv\",dtype=dtype_dict)"
   ]
  },
  {
   "cell_type": "code",
   "execution_count": 41,
   "metadata": {},
   "outputs": [],
   "source": [
    "X_train['bedrooms_squared'] = X_train['bedrooms']*X_train['bedrooms']\n",
    "X_train['bed_bath_rooms'] = X_train['bedrooms']*X_train['bathrooms']\n",
    "X_train['log_sqft_living'] = X_train['sqft_living'].apply(lambda x: log(x))\n",
    "X_train['lat_plus_long'] = X_train['lat']*X_train['long']\n",
    "y_train = X_train['price']\n",
    "X_test['bedrooms_squared'] = X_test['bedrooms']*X_test['bedrooms']\n",
    "X_test['bed_bath_rooms'] = X_test['bedrooms']*X_test['bathrooms']\n",
    "X_test['log_sqft_living'] = X_test['sqft_living'].apply(lambda x: log(x))\n",
    "X_test['lat_plus_long'] = X_test['lat']+X_test['long']\n",
    "y_test = X_test['price']\n",
    "\n",
    "new_variable = ['bedrooms_squared','bed_bath_rooms','log_sqft_living','lat_plus_long']\n"
   ]
  },
  {
   "cell_type": "code",
   "execution_count": 42,
   "metadata": {
    "collapsed": true
   },
   "outputs": [],
   "source": [
    "feature = ['sqft_living','bedrooms','bathrooms','lat','long']\n",
    "feature2 = feature + ['bed_bath_rooms']\n",
    "feature3 = feature2 + ['bedrooms_squared','log_sqft_living','lat_plus_long']\n",
    "\n",
    "model1 = LinearRegression().fit(X_train[feature],X_train['price'])\n",
    "model2 = LinearRegression().fit(X_train[feature2],X_train['price'])\n",
    "model3 = LinearRegression().fit(X_train[feature3],X_train['price'])"
   ]
  },
  {
   "cell_type": "code",
   "execution_count": 55,
   "metadata": {},
   "outputs": [
    {
     "name": "stdout",
     "output_type": "stream",
     "text": [
      "Model1 coefficient (w): [  3.12258646e+02  -5.95865332e+04   1.57067421e+04   6.58619264e+05\n",
      "  -3.09374351e+05]\n",
      "\n",
      "Model2 coefficient (w): [  3.06610053e+02  -1.13446368e+05  -7.14613083e+04   6.54844630e+05\n",
      "  -2.94298969e+05   2.55796520e+04]\n",
      "\n",
      "Model3 coefficient (w): [  5.31964492e+02   3.66338204e+04   6.75006294e+04  -1.39665060e+08\n",
      "   5.43198511e+07  -9.02007090e+03  -6.96138493e+03  -5.61309405e+05\n",
      "  -1.14822353e+06]\n"
     ]
    }
   ],
   "source": [
    "print(\"Model1 coefficient (w):\", model1.coef_)\n",
    "print(\"\")\n",
    "print(\"Model2 coefficient (w):\", model2.coef_)\n",
    "print(\"\")\n",
    "print(\"Model3 coefficient (w):\", model3.coef_)\n"
   ]
  },
  {
   "cell_type": "code",
   "execution_count": 43,
   "metadata": {
    "collapsed": true
   },
   "outputs": [],
   "source": [
    "def get_RSS(model, X_data, y_data):\n",
    "    prediction = model.predict(X_data)\n",
    "    residual = y_data - prediction\n",
    "    RSS = (residual **2).sum()\n",
    "    return RSS"
   ]
  },
  {
   "cell_type": "code",
   "execution_count": 49,
   "metadata": {},
   "outputs": [
    {
     "name": "stdout",
     "output_type": "stream",
     "text": [
      "RSS_1: 967879963049549.5\n",
      "RSS_2: 958419635074071.5\n",
      "RSS_3: 895927073789704.5\n",
      "\n",
      "-------------------------\n",
      "\n",
      "Prediction_1: [ 284545.19411053]\n",
      "Prediction_2: [ 283331.49956516]\n",
      "Prediction_3: [ -6.55099336e+09]\n"
     ]
    }
   ],
   "source": [
    "RSS_train_1 = get_RSS(model1,X_train[feature],y_train)\n",
    "RSS_train_2 = get_RSS(model2,X_train[feature2],y_train)\n",
    "RSS_train_3 = get_RSS(model3,X_train[feature3],y_train)\n",
    "\n",
    "print(\"RSS_1:\",RSS_train_1)\n",
    "print(\"RSS_2:\",RSS_train_2)\n",
    "print(\"RSS_3:\",RSS_train_3)\n",
    "print(\"\")\n",
    "print(\"-------------------------\")\n",
    "print(\"\")\n",
    "prediction1 = model1.predict(X_test[feature].iloc[10].values.reshape(1,-1))\n",
    "prediction2 = model2.predict(X_test[feature2].iloc[10].values.reshape(1,-1))\n",
    "prediction3 = model3.predict(X_test[feature3].iloc[10].values.reshape(1,-1))\n",
    "\n",
    "print(\"Prediction_1:\",prediction1)\n",
    "print(\"Prediction_2:\",prediction2)\n",
    "print(\"Prediction_3:\",prediction3)"
   ]
  },
  {
   "cell_type": "code",
   "execution_count": null,
   "metadata": {},
   "outputs": [],
   "source": []
  }
 ],
 "metadata": {
  "kernelspec": {
   "display_name": "Python 3",
   "language": "python",
   "name": "python3"
  },
  "language_info": {
   "codemirror_mode": {
    "name": "ipython",
    "version": 3
   },
   "file_extension": ".py",
   "mimetype": "text/x-python",
   "name": "python",
   "nbconvert_exporter": "python",
   "pygments_lexer": "ipython3",
   "version": "3.6.3"
  }
 },
 "nbformat": 4,
 "nbformat_minor": 2
}
