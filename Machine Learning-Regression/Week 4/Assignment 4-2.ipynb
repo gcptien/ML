{
 "cells": [
  {
   "cell_type": "code",
   "execution_count": 36,
   "metadata": {
    "collapsed": true
   },
   "outputs": [],
   "source": [
    "import pandas as pd\n",
    "import numpy as np\n",
    "import matplotlib.pyplot as plt\n",
    "%matplotlib inline\n",
    "from math import log\n",
    "\n",
    "from sklearn.linear_model import LinearRegression, Ridge"
   ]
  },
  {
   "cell_type": "code",
   "execution_count": 37,
   "metadata": {
    "collapsed": true
   },
   "outputs": [],
   "source": [
    "dtype_dict = {'bathrooms':float, 'waterfront':int, 'sqft_above':int, 'sqft_living15':float, \n",
    "              'grade':int, 'yr_renovated':int, 'price':float, 'bedrooms':float, 'zipcode':str, \n",
    "              'long':float, 'sqft_lot15':float, 'sqft_living':float, 'floors':str, 'condition':int, \n",
    "              'lat':float, 'date':str, 'sqft_basement':int, \n",
    "              'yr_built':int, 'id':str, 'sqft_lot':int, 'view':int}"
   ]
  },
  {
   "cell_type": "code",
   "execution_count": 38,
   "metadata": {
    "collapsed": true
   },
   "outputs": [],
   "source": [
    "df = pd.read_csv('kc_house_data.csv',dtype=dtype_dict)\n",
    "X_train = pd.read_csv('kc_house_train_data.csv', dtype=dtype_dict)\n",
    "X_test = pd.read_csv('kc_house_test_data.csv',dtype=dtype_dict)\n",
    "\n",
    "df = df.sort_values(by=['sqft_living','price'])"
   ]
  },
  {
   "cell_type": "code",
   "execution_count": 39,
   "metadata": {
    "collapsed": true
   },
   "outputs": [],
   "source": [
    "def get_numpy_data(df, features, output):\n",
    "    df['constant'] = 1 # add a constant column to an SFrame\n",
    "    # prepend variable 'constant' to the features list\n",
    "    features = ['constant'] + features\n",
    "    # select the columns of data_SFrame given by the ‘features’ list into the SFrame ‘features_sframe’\n",
    "    features_matrix = df[features].as_matrix()\n",
    "    output_array = df[output].as_matrix()\n",
    "    return(features_matrix, output_array)"
   ]
  },
  {
   "cell_type": "code",
   "execution_count": 40,
   "metadata": {
    "collapsed": true
   },
   "outputs": [],
   "source": [
    "def predict_output(feature_matrix, weights):\n",
    "    predictions = np.dot(feature_matrix, weights)\n",
    "    return predictions"
   ]
  },
  {
   "cell_type": "markdown",
   "metadata": {},
   "source": [
    "### 5. We are now going to move to computing the derivative of the regression cost function. Recall that the cost function is the sum over the data points of the squared difference between an observed output and a predicted output, plus the L2 penalty term.\n",
    "\n",
    "\n",
    "Since the derivative of a sum is the sum of the derivatives, we can take the derivative of the first part (the RSS) as we did in the notebook for the unregularized case in Module 2 and add the derivative of the regularization part. As we saw, the derivative of the RSS with respect to w[i] can be written as:"
   ]
  },
  {
   "cell_type": "code",
   "execution_count": 50,
   "metadata": {
    "collapsed": true
   },
   "outputs": [],
   "source": [
    "# def feature_derivative_ridge(errors, feature, weight, l2_penalty, feature_is_constant):\n",
    "#     if feature_is_constant is True:\n",
    "#         derivative = 2* np.dot(errors,feature)\n",
    "#         return derivative\n",
    "#     else: \n",
    "#         d1 = 2* np.dot(errors,feature)\n",
    "#         d2 = 2* l2_penalty*weight\n",
    "#         derivative= d1 + d2\n",
    "#         return derivative"
   ]
  },
  {
   "cell_type": "code",
   "execution_count": 68,
   "metadata": {
    "collapsed": true
   },
   "outputs": [],
   "source": [
    "def feature_derivative_ridge(errors, feature, weight, l2_penalty, feature_is_constant):\n",
    "    # If feature_is_constant is True, derivative is twice the dot product of errors and feature\n",
    "    derivative = 2 * np.dot(errors, feature)\n",
    "    if not feature_is_constant:\n",
    "    # Otherwise, derivative is twice the dot product plus 2*l2_penalty*weight\n",
    "        derivative = derivative + (2*l2_penalty*weight)\n",
    "    return derivative"
   ]
  },
  {
   "cell_type": "markdown",
   "metadata": {},
   "source": [
    "## Test Feature Derivative Ridge"
   ]
  },
  {
   "cell_type": "code",
   "execution_count": 69,
   "metadata": {},
   "outputs": [
    {
     "name": "stdout",
     "output_type": "stream",
     "text": [
      "-5.6554166816e+13\n",
      "-5.6554166816e+13\n",
      "\n",
      "-22446749330.0\n",
      "-22446749330.0\n"
     ]
    }
   ],
   "source": [
    "(example_features, example_output) = get_numpy_data(df, ['sqft_living'], 'price')\n",
    "my_weights = np.array([1., 10.])\n",
    "test_predictions = predict_output(example_features, my_weights)\n",
    "errors = test_predictions - example_output # prediction errors\n",
    "\n",
    "# next two lines should print the same values\n",
    "print(feature_derivative_ridge(errors, example_features[:,1], my_weights[1], 1, False))\n",
    "print(np.sum(errors*example_features[:,1])*2+20.)\n",
    "print('')\n",
    "\n",
    "# next two lines should print the same values\n",
    "print(feature_derivative_ridge(errors, example_features[:,0], my_weights[0], 1, True))\n",
    "print(np.sum(errors)*2.)"
   ]
  },
  {
   "cell_type": "markdown",
   "metadata": {},
   "source": [
    "### 8. Now we will write a function that performs a gradient descent. The basic premise is simple. Given a starting point we update the current weights by moving in the negative gradient direction. Recall that the gradient is the direction of increase and therefore the negative gradient is the direction of decrease and we're trying to minimize a cost function.\n",
    "\n",
    "The amount by which we move in the negative gradient direction is called the ‘step size’. We stop when we are ‘sufficiently close’ to the optimum. Unlike in Module 2, this time we will set a maximum number of iterations and take gradient steps until we reach this maximum number. If no maximum number is supplied, the maximum should be set 100 by default. (Use default parameter values in Python.)\n",
    "\n",
    "With this in mind, write a gradient descent function using your derivative function above. For each step in the gradient descent, we update the weight for each feature before computing our stopping criteria. The function will take the following parameters:\n",
    "\n",
    "- 2D feature matrix\n",
    "- array of output values\n",
    "- initial weights\n",
    "- step size\n",
    "- L2 penalty\n",
    "- maximum number of iterations\n",
    "\n"
   ]
  },
  {
   "cell_type": "code",
   "execution_count": 70,
   "metadata": {
    "collapsed": true
   },
   "outputs": [],
   "source": [
    "def ridge_regression_gradient_descent(feature_matrix, output, initial_weights, \n",
    "                                      step_size, l2_penalty, max_iterations=100):\n",
    "    weights = np.array(initial_weights) # make sure it's a numpy array\n",
    "    for count in range(max_iterations):\n",
    "        # compute the predictions using your predict_output() function\n",
    "        predictions = predict_output(feature_matrix, weights)\n",
    "        # compute the errors as predictions - output\n",
    "        errors = predictions - output\n",
    "        for i in range(len(weights)): # loop over each weight\n",
    "            # Recall that feature_matrix[:,i] is the feature column associated with weights[i]\n",
    "            #feature = feature_matrix[:,i]\n",
    "            # compute the derivative for weight[i].\n",
    "            derivative = feature_derivative_ridge(errors, feature_matrix[:,i], weights[i], \n",
    "                                                  l2_penalty, i==0)\n",
    "            #(Remember: when i=0, you are computing the derivative of the constant!)\n",
    "            \n",
    "            # subtract the step size times the derivative from the current weight\n",
    "            weights[i] = weights[i] - (step_size * derivative)\n",
    "    return weights"
   ]
  },
  {
   "cell_type": "code",
   "execution_count": 71,
   "metadata": {
    "collapsed": true
   },
   "outputs": [],
   "source": [
    "simple_features = ['sqft_living']\n",
    "my_output = 'price'\n",
    "(simple_feature_matrix, output) = get_numpy_data(X_train, simple_features, my_output)\n",
    "(simple_test_feature_matrix, test_output) = get_numpy_data(X_test, simple_features, my_output)"
   ]
  },
  {
   "cell_type": "code",
   "execution_count": 84,
   "metadata": {},
   "outputs": [],
   "source": [
    "train_data = pd.read_csv('kc_house_train_data.csv', dtype=dtype_dict)\n",
    "test_data = pd.read_csv('kc_house_test_data.csv', dtype=dtype_dict)\n",
    "\n",
    "\n",
    "\n",
    "(simple_feature_matrix , output) = get_numpy_data(train_data, simple_features, my_output)\n",
    "(simple_test_feature_matrix, test_output) = get_numpy_data(test_data, simple_features, my_output)"
   ]
  },
  {
   "cell_type": "markdown",
   "metadata": {},
   "source": [
    "### 12. First, let’s consider no regularization. Set the L2 penalty to 0.0 and run your ridge regression algorithm to learn the weights of the simple model (described above). Use the following parameters:\n",
    "\n",
    "- step_size = 1e-12\n",
    "- max_iterations = 1000\n",
    "- initial_weights = all zeros\n",
    "\n",
    "Store the learned weights as \"simple_weights_0_penalty\""
   ]
  },
  {
   "cell_type": "code",
   "execution_count": 113,
   "metadata": {},
   "outputs": [
    {
     "data": {
      "text/plain": [
       "array([ -1.63113515e-01,   2.63024369e+02])"
      ]
     },
     "execution_count": 113,
     "metadata": {},
     "output_type": "execute_result"
    }
   ],
   "source": [
    "l2_penalty = 0.0\n",
    "step_size = 1e-12\n",
    "max_iterations =1000\n",
    "initial_weights = np.array([0.,0.])\n",
    "simple_weights_0_penalty = ridge_regression_gradient_descent(simple_feature_matrix, output, initial_weights, \n",
    "                                      step_size,l2_penalty, max_iterations)\n",
    "simple_weights_0_penalty"
   ]
  },
  {
   "cell_type": "code",
   "execution_count": 114,
   "metadata": {},
   "outputs": [
    {
     "data": {
      "text/plain": [
       "array([   9.76730382,  124.57217567])"
      ]
     },
     "execution_count": 114,
     "metadata": {},
     "output_type": "execute_result"
    }
   ],
   "source": [
    "l2_penalty = 1e11\n",
    "simple_weights_high_penalty = ridge_regression_gradient_descent(simple_feature_matrix, output, initial_weights, \n",
    "                            step_size, l2_penalty, max_iterations)\n",
    "simple_weights_high_penalty"
   ]
  },
  {
   "cell_type": "code",
   "execution_count": 118,
   "metadata": {},
   "outputs": [
    {
     "data": {
      "text/plain": [
       "(0, 8000000.0)"
      ]
     },
     "execution_count": 118,
     "metadata": {},
     "output_type": "execute_result"
    },
    {
     "data": {
      "image/png": "[encoded data removed]",
      "text/plain": [
       "<matplotlib.figure.Figure at 0x1a1d8c4208>"
      ]
     },
     "metadata": {},
     "output_type": "display_data"
    }
   ],
   "source": [
    "plt.plot(simple_feature_matrix,output,'k.',\n",
    "        simple_feature_matrix,predict_output(simple_feature_matrix, simple_weights_0_penalty),'b-',\n",
    "        simple_feature_matrix,predict_output(simple_feature_matrix, simple_weights_high_penalty),'r-')\n",
    "\n",
    "plt.xlim(0,14000)\n",
    "plt.ylim(0,8e6)"
   ]
  },
  {
   "cell_type": "markdown",
   "metadata": {},
   "source": [
    "#### 15. Quiz Question: What is the value of the coefficient for sqft_living that you learned with no regularization, rounded to 1 decimal place? What about the one with high regularization?\n",
    "\n",
    "- Ans: \n",
    "    - No regularization : 263.0\n",
    "    - High Regularization: 124.6\n",
    "\n",
    "#### 16. Quiz Question: Comparing the lines you fit with the with no regularization versus high regularization, which one is steeper?\n",
    "\n",
    " - Ans: No Regularization"
   ]
  },
  {
   "cell_type": "markdown",
   "metadata": {},
   "source": [
    "### 18. Quiz Question: What are the RSS on the test data for each of the set of weights above (initial, no regularization, high regularization)?\n",
    "\n"
   ]
  },
  {
   "cell_type": "code",
   "execution_count": 122,
   "metadata": {},
   "outputs": [
    {
     "name": "stdout",
     "output_type": "stream",
     "text": [
      "Initial Weights:  1.78427328614e+15\n",
      "No Regularization:  2.75723632154e+14\n",
      "High Regularization:  6.9464210149e+14\n"
     ]
    }
   ],
   "source": [
    "test_error_initial = sum((predict_output(simple_test_feature_matrix, initial_weights) - test_output) ** 2)\n",
    "test_error_no_reg = sum((predict_output(simple_test_feature_matrix, simple_weights_0_penalty) - test_output) ** 2)\n",
    "test_error_high_reg = sum((predict_output(simple_test_feature_matrix, simple_weights_high_penalty) - test_output) ** 2)\n",
    "\n",
    "print('Initial Weights: ', test_error_initial)\n",
    "print('No Regularization: ', test_error_no_reg)\n",
    "print('High Regularization: ', test_error_high_reg)"
   ]
  },
  {
   "cell_type": "markdown",
   "metadata": {},
   "source": [
    "## 19. Let us now consider a model with 2 features: [ ‘sqft_living’, ‘sqft_living_15’]. First, create Numpy version of your training and test data with the two features."
   ]
  },
  {
   "cell_type": "code",
   "execution_count": 123,
   "metadata": {},
   "outputs": [],
   "source": [
    "model_features = ['sqft_living', 'sqft_living15']\n",
    "my_output = 'price'\n",
    "(feature_matrix, output) = get_numpy_data(train_data, model_features, my_output)\n",
    "(test_feature_matrix, test_output) = get_numpy_data(test_data, model_features, my_output)"
   ]
  },
  {
   "cell_type": "code",
   "execution_count": 124,
   "metadata": {},
   "outputs": [],
   "source": [
    "l2_penalty = 0\n",
    "initial_weights = np.array([0.,0.,0.])\n",
    "step_size = 1e-12\n",
    "max_iterations=1000\n"
   ]
  },
  {
   "cell_type": "code",
   "execution_count": 125,
   "metadata": {},
   "outputs": [
    {
     "data": {
      "text/plain": [
       "array([  -0.35743483,  243.05416982,   22.41481497])"
      ]
     },
     "execution_count": 125,
     "metadata": {},
     "output_type": "execute_result"
    }
   ],
   "source": [
    "# No Regularization\n",
    "multiple_weights_0_penalty = ridge_regression_gradient_descent(feature_matrix, output, initial_weights, \n",
    "                                      step_size, l2_penalty, max_iterations)\n",
    "multiple_weights_0_penalty"
   ]
  },
  {
   "cell_type": "code",
   "execution_count": 126,
   "metadata": {},
   "outputs": [
    {
     "data": {
      "text/plain": [
       "array([  6.74296579,  91.48927365,  78.43658766])"
      ]
     },
     "execution_count": 126,
     "metadata": {},
     "output_type": "execute_result"
    }
   ],
   "source": [
    "# High Regularization with 2 features\n",
    "l2_penalty = 1e11\n",
    "multiple_weights_high_penalty = ridge_regression_gradient_descent(feature_matrix, output, initial_weights, \n",
    "                                      step_size, l2_penalty, max_iterations)\n",
    "multiple_weights_high_penalty"
   ]
  },
  {
   "cell_type": "markdown",
   "metadata": {},
   "source": [
    "### 22. Quiz Question: What is the value of the coefficient for ‘sqft_living’ that you learned with no regularization, rounded to 1 decimal place? What about the one with high regularization?\n",
    "\n",
    "- Ans:\n",
    "    - No Regularization: 243.1\n",
    "    - High Regularization: 91.5"
   ]
  },
  {
   "cell_type": "markdown",
   "metadata": {},
   "source": [
    "## 23. Compute the RSS on the TEST data for the following three sets of weights:\n",
    "\n",
    "- The initial weights (all zeros)\n",
    "- The weights learned with no regularization\n",
    "- The weights learned with high regularization\n",
    "\n",
    "### 24. Quiz Question: What are the RSS on the test data for each of the set of weights above (initial, no regularization, high regularization)?"
   ]
  },
  {
   "cell_type": "code",
   "execution_count": 127,
   "metadata": {},
   "outputs": [
    {
     "name": "stdout",
     "output_type": "stream",
     "text": [
      "Initial Weights:  1.78427328614e+15\n",
      "No Regularization:  2.74067615919e+14\n",
      "High Regularization:  5.00404800501e+14\n"
     ]
    }
   ],
   "source": [
    "test_error_initial = sum((predict_output(test_feature_matrix, initial_weights) - test_output) ** 2)\n",
    "test_error_no_reg = sum((predict_output(test_feature_matrix, multiple_weights_0_penalty) - test_output) ** 2)\n",
    "test_error_high_reg = sum((predict_output(test_feature_matrix, multiple_weights_high_penalty) - test_output) ** 2)\n",
    "\n",
    "print('Initial Weights: ', test_error_initial)\n",
    "print('No Regularization: ', test_error_no_reg)\n",
    "print('High Regularization: ', test_error_high_reg)"
   ]
  },
  {
   "cell_type": "markdown",
   "metadata": {},
   "source": [
    "## 25. Predict the house price for the 1st house in the test set using the no regularization and high regularization models. (Remember that python starts indexing from 0.)\n",
    "\n",
    "### 26. Quiz Question: What's the error in predicting the price of the first house in the test set using the weights learned with no regularization? What about with high regularization?"
   ]
  },
  {
   "cell_type": "code",
   "execution_count": 131,
   "metadata": {},
   "outputs": [
    {
     "name": "stdout",
     "output_type": "stream",
     "text": [
      "House 1 without Regularization price is:  387465.476058\n",
      "House 1 with High Regularization price is:  270453.530322\n"
     ]
    }
   ],
   "source": [
    "house1_no_reg = predict_output(test_feature_matrix[0],multiple_weights_0_penalty)\n",
    "house1_high_reg = predict_output(test_feature_matrix[0],multiple_weights_high_penalty)\n",
    "\n",
    "print('House 1 without Regularization price is: ', house1_no_reg)\n",
    "print('House 1 with High Regularization price is: ', house1_high_reg)"
   ]
  },
  {
   "cell_type": "code",
   "execution_count": 133,
   "metadata": {},
   "outputs": [
    {
     "name": "stdout",
     "output_type": "stream",
     "text": [
      "Error for House 1 without Regularization price is:  -77465.4760582\n",
      "Errof for House 1 with High Regularization price is:  39546.4696781\n"
     ]
    }
   ],
   "source": [
    "error_no_reg = test_output[0] - house1_no_reg\n",
    "error_high_reg = test_output[0] - house1_high_reg\n",
    "print('Error for House 1 without Regularization price is: ', error_no_reg)\n",
    "print('Errof for House 1 with High Regularization price is: ', error_high_reg)"
   ]
  },
  {
   "cell_type": "code",
   "execution_count": null,
   "metadata": {
    "collapsed": true
   },
   "outputs": [],
   "source": []
  }
 ],
 "metadata": {
  "kernelspec": {
   "display_name": "Python 3",
   "language": "python",
   "name": "python3"
  },
  "language_info": {
   "codemirror_mode": {
    "name": "ipython",
    "version": 3
   },
   "file_extension": ".py",
   "mimetype": "text/x-python",
   "name": "python",
   "nbconvert_exporter": "python",
   "pygments_lexer": "ipython3",
   "version": "3.6.3"
  }
 },
 "nbformat": 4,
 "nbformat_minor": 2
}
