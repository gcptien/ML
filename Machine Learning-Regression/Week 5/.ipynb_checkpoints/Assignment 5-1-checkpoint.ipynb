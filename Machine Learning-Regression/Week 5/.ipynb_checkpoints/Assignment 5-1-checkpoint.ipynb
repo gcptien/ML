{
 "cells": [
  {
   "cell_type": "code",
   "execution_count": 4,
   "metadata": {
    "collapsed": true
   },
   "outputs": [],
   "source": [
    "import pandas as pd\n",
    "import numpy as np\n",
    "import matplotlib.pyplot as plt\n",
    "from math import log, sqrt\n",
    "%matplotlib inline\n",
    "from sklearn import linear_model # using scikit-learn\n",
    "dtype_dict = {'bathrooms':float, 'waterfront':int, 'sqft_above':int,\n",
    "'sqft_living15':float, 'grade':int, 'yr_renovated':int, 'price':float,\n",
    "'bedrooms':float, 'zipcode':str, 'long':float, 'sqft_lot15':float,\n",
    "'sqft_living':float, 'floors':float, 'condition':int, 'lat':float, 'date':str,\n",
    "'sqft_basement':int, 'yr_built':int, 'id':str, 'sqft_lot':int, 'view':int}\n",
    "\n",
    "all_features = ['bedrooms', 'bedrooms_square', 'bathrooms',\n",
    "'sqft_living', 'sqft_living_sqrt', 'sqft_lot', 'sqft_lot_sqrt',\n",
    "'floors', 'floors_square', 'waterfront', 'view', 'condition', 'grade',\n",
    "'sqft_above', 'sqft_basement', 'yr_built', 'yr_renovated']\n",
    "\n",
    "sales = pd.read_csv('kc_house_data.csv', dtype=dtype_dict)\n",
    "\n",
    "sales['sqft_living_sqrt'] = sales['sqft_living'].apply(sqrt)\n",
    "sales['sqft_lot_sqrt'] = sales['sqft_lot'].apply(sqrt)\n",
    "sales['bedrooms_square'] = sales['bedrooms']*sales['bedrooms']\n",
    "sales['floors_square'] = sales['floors']*sales['floors']"
   ]
  },
  {
   "cell_type": "code",
   "execution_count": 2,
   "metadata": {},
   "outputs": [
    {
     "data": {
      "text/html": [
       "<div>\n",
       "<style>\n",
       "    .dataframe thead tr:only-child th {\n",
       "        text-align: right;\n",
       "    }\n",
       "\n",
       "    .dataframe thead th {\n",
       "        text-align: left;\n",
       "    }\n",
       "\n",
       "    .dataframe tbody tr th {\n",
       "        vertical-align: top;\n",
       "    }\n",
       "</style>\n",
       "<table border=\"1\" class=\"dataframe\">\n",
       "  <thead>\n",
       "    <tr style=\"text-align: right;\">\n",
       "      <th></th>\n",
       "      <th>id</th>\n",
       "      <th>date</th>\n",
       "      <th>price</th>\n",
       "      <th>bedrooms</th>\n",
       "      <th>bathrooms</th>\n",
       "      <th>sqft_living</th>\n",
       "      <th>sqft_lot</th>\n",
       "      <th>floors</th>\n",
       "      <th>waterfront</th>\n",
       "      <th>view</th>\n",
       "      <th>...</th>\n",
       "      <th>yr_renovated</th>\n",
       "      <th>zipcode</th>\n",
       "      <th>lat</th>\n",
       "      <th>long</th>\n",
       "      <th>sqft_living15</th>\n",
       "      <th>sqft_lot15</th>\n",
       "      <th>sqft_living_sqrt</th>\n",
       "      <th>sqft_lot_sqrt</th>\n",
       "      <th>bedrooms_square</th>\n",
       "      <th>floors_square</th>\n",
       "    </tr>\n",
       "  </thead>\n",
       "  <tbody>\n",
       "    <tr>\n",
       "      <th>0</th>\n",
       "      <td>7129300520</td>\n",
       "      <td>20141013T000000</td>\n",
       "      <td>221900.0</td>\n",
       "      <td>3.0</td>\n",
       "      <td>1.00</td>\n",
       "      <td>1180.0</td>\n",
       "      <td>5650</td>\n",
       "      <td>1.0</td>\n",
       "      <td>0</td>\n",
       "      <td>0</td>\n",
       "      <td>...</td>\n",
       "      <td>0</td>\n",
       "      <td>98178</td>\n",
       "      <td>47.5112</td>\n",
       "      <td>-122.257</td>\n",
       "      <td>1340.0</td>\n",
       "      <td>5650.0</td>\n",
       "      <td>34.351128</td>\n",
       "      <td>75.166482</td>\n",
       "      <td>9.0</td>\n",
       "      <td>1.0</td>\n",
       "    </tr>\n",
       "    <tr>\n",
       "      <th>1</th>\n",
       "      <td>6414100192</td>\n",
       "      <td>20141209T000000</td>\n",
       "      <td>538000.0</td>\n",
       "      <td>3.0</td>\n",
       "      <td>2.25</td>\n",
       "      <td>2570.0</td>\n",
       "      <td>7242</td>\n",
       "      <td>2.0</td>\n",
       "      <td>0</td>\n",
       "      <td>0</td>\n",
       "      <td>...</td>\n",
       "      <td>1991</td>\n",
       "      <td>98125</td>\n",
       "      <td>47.7210</td>\n",
       "      <td>-122.319</td>\n",
       "      <td>1690.0</td>\n",
       "      <td>7639.0</td>\n",
       "      <td>50.695167</td>\n",
       "      <td>85.099941</td>\n",
       "      <td>9.0</td>\n",
       "      <td>4.0</td>\n",
       "    </tr>\n",
       "    <tr>\n",
       "      <th>2</th>\n",
       "      <td>5631500400</td>\n",
       "      <td>20150225T000000</td>\n",
       "      <td>180000.0</td>\n",
       "      <td>2.0</td>\n",
       "      <td>1.00</td>\n",
       "      <td>770.0</td>\n",
       "      <td>10000</td>\n",
       "      <td>1.0</td>\n",
       "      <td>0</td>\n",
       "      <td>0</td>\n",
       "      <td>...</td>\n",
       "      <td>0</td>\n",
       "      <td>98028</td>\n",
       "      <td>47.7379</td>\n",
       "      <td>-122.233</td>\n",
       "      <td>2720.0</td>\n",
       "      <td>8062.0</td>\n",
       "      <td>27.748874</td>\n",
       "      <td>100.000000</td>\n",
       "      <td>4.0</td>\n",
       "      <td>1.0</td>\n",
       "    </tr>\n",
       "    <tr>\n",
       "      <th>3</th>\n",
       "      <td>2487200875</td>\n",
       "      <td>20141209T000000</td>\n",
       "      <td>604000.0</td>\n",
       "      <td>4.0</td>\n",
       "      <td>3.00</td>\n",
       "      <td>1960.0</td>\n",
       "      <td>5000</td>\n",
       "      <td>1.0</td>\n",
       "      <td>0</td>\n",
       "      <td>0</td>\n",
       "      <td>...</td>\n",
       "      <td>0</td>\n",
       "      <td>98136</td>\n",
       "      <td>47.5208</td>\n",
       "      <td>-122.393</td>\n",
       "      <td>1360.0</td>\n",
       "      <td>5000.0</td>\n",
       "      <td>44.271887</td>\n",
       "      <td>70.710678</td>\n",
       "      <td>16.0</td>\n",
       "      <td>1.0</td>\n",
       "    </tr>\n",
       "    <tr>\n",
       "      <th>4</th>\n",
       "      <td>1954400510</td>\n",
       "      <td>20150218T000000</td>\n",
       "      <td>510000.0</td>\n",
       "      <td>3.0</td>\n",
       "      <td>2.00</td>\n",
       "      <td>1680.0</td>\n",
       "      <td>8080</td>\n",
       "      <td>1.0</td>\n",
       "      <td>0</td>\n",
       "      <td>0</td>\n",
       "      <td>...</td>\n",
       "      <td>0</td>\n",
       "      <td>98074</td>\n",
       "      <td>47.6168</td>\n",
       "      <td>-122.045</td>\n",
       "      <td>1800.0</td>\n",
       "      <td>7503.0</td>\n",
       "      <td>40.987803</td>\n",
       "      <td>89.888820</td>\n",
       "      <td>9.0</td>\n",
       "      <td>1.0</td>\n",
       "    </tr>\n",
       "  </tbody>\n",
       "</table>\n",
       "<p>5 rows × 25 columns</p>\n",
       "</div>"
      ],
      "text/plain": [
       "           id             date     price  bedrooms  bathrooms  sqft_living  \\\n",
       "0  7129300520  20141013T000000  221900.0       3.0       1.00       1180.0   \n",
       "1  6414100192  20141209T000000  538000.0       3.0       2.25       2570.0   \n",
       "2  5631500400  20150225T000000  180000.0       2.0       1.00        770.0   \n",
       "3  2487200875  20141209T000000  604000.0       4.0       3.00       1960.0   \n",
       "4  1954400510  20150218T000000  510000.0       3.0       2.00       1680.0   \n",
       "\n",
       "   sqft_lot  floors  waterfront  view      ...        yr_renovated  zipcode  \\\n",
       "0      5650     1.0           0     0      ...                   0    98178   \n",
       "1      7242     2.0           0     0      ...                1991    98125   \n",
       "2     10000     1.0           0     0      ...                   0    98028   \n",
       "3      5000     1.0           0     0      ...                   0    98136   \n",
       "4      8080     1.0           0     0      ...                   0    98074   \n",
       "\n",
       "       lat     long  sqft_living15  sqft_lot15 sqft_living_sqrt  \\\n",
       "0  47.5112 -122.257         1340.0      5650.0        34.351128   \n",
       "1  47.7210 -122.319         1690.0      7639.0        50.695167   \n",
       "2  47.7379 -122.233         2720.0      8062.0        27.748874   \n",
       "3  47.5208 -122.393         1360.0      5000.0        44.271887   \n",
       "4  47.6168 -122.045         1800.0      7503.0        40.987803   \n",
       "\n",
       "   sqft_lot_sqrt  bedrooms_square  floors_square  \n",
       "0      75.166482              9.0            1.0  \n",
       "1      85.099941              9.0            4.0  \n",
       "2     100.000000              4.0            1.0  \n",
       "3      70.710678             16.0            1.0  \n",
       "4      89.888820              9.0            1.0  \n",
       "\n",
       "[5 rows x 25 columns]"
      ]
     },
     "execution_count": 2,
     "metadata": {},
     "output_type": "execute_result"
    }
   ],
   "source": [
    "sales.head()"
   ]
  },
  {
   "cell_type": "code",
   "execution_count": 5,
   "metadata": {},
   "outputs": [
    {
     "data": {
      "text/plain": [
       "Lasso(alpha=500.0, copy_X=True, fit_intercept=True, max_iter=1000,\n",
       "   normalize=True, positive=False, precompute=False, random_state=None,\n",
       "   selection='cyclic', tol=0.0001, warm_start=False)"
      ]
     },
     "execution_count": 5,
     "metadata": {},
     "output_type": "execute_result"
    }
   ],
   "source": [
    "# Fit Lasso Model\n",
    "model_all = linear_model.Lasso(alpha=5e2, normalize=True) # set parameters\n",
    "model_all.fit(sales[all_features], sales['price']) # learn weights"
   ]
  },
  {
   "cell_type": "code",
   "execution_count": 21,
   "metadata": {},
   "outputs": [
    {
     "name": "stdout",
     "output_type": "stream",
     "text": [
      "3\n",
      "10\n",
      "12\n",
      "sqft_living   view   grade\n"
     ]
    }
   ],
   "source": [
    "# Quize #1\n",
    "for i, n in enumerate(model_all.coef_):\n",
    "    if n != 0:\n",
    "        print(i)\n",
    "    \n",
    "print(all_features[3],\" \", all_features[10],\" \",all_features[12])"
   ]
  },
  {
   "cell_type": "code",
   "execution_count": 14,
   "metadata": {},
   "outputs": [
    {
     "data": {
      "text/plain": [
       "<1x17 sparse matrix of type '<class 'numpy.float64'>'\n",
       "\twith 3 stored elements in Compressed Sparse Row format>"
      ]
     },
     "execution_count": 14,
     "metadata": {},
     "output_type": "execute_result"
    }
   ],
   "source": [
    "model_all.sparse_coef_"
   ]
  },
  {
   "cell_type": "markdown",
   "metadata": {},
   "source": [
    "## Validation\n"
   ]
  },
  {
   "cell_type": "code",
   "execution_count": 23,
   "metadata": {
    "collapsed": true
   },
   "outputs": [],
   "source": [
    "testing = pd.read_csv('wk3_kc_house_test_data.csv', dtype=dtype_dict)\n",
    "training = pd.read_csv('wk3_kc_house_train_data.csv', dtype=dtype_dict)\n",
    "validation = pd.read_csv('wk3_kc_house_valid_data.csv', dtype=dtype_dict)\n",
    "\n",
    "testing['sqft_living_sqrt'] = testing['sqft_living'].apply(sqrt)\n",
    "testing['sqft_lot_sqrt'] = testing['sqft_lot'].apply(sqrt)\n",
    "testing['bedrooms_square'] = testing['bedrooms']*testing['bedrooms']\n",
    "testing['floors_square'] = testing['floors']*testing['floors']\n",
    "training['sqft_living_sqrt'] = training['sqft_living'].apply(sqrt)\n",
    "training['sqft_lot_sqrt'] = training['sqft_lot'].apply(sqrt)\n",
    "training['bedrooms_square'] = training['bedrooms']*training['bedrooms']\n",
    "training['floors_square'] = training['floors']*training['floors']\n",
    "validation['sqft_living_sqrt'] = validation['sqft_living'].apply(sqrt)\n",
    "validation['sqft_lot_sqrt'] = validation['sqft_lot'].apply(sqrt)\n",
    "validation['bedrooms_square'] = validation['bedrooms']*validation['bedrooms']\n",
    "validation['floors_square'] = validation['floors']*validation['floors']"
   ]
  },
  {
   "cell_type": "code",
   "execution_count": 25,
   "metadata": {},
   "outputs": [],
   "source": [
    "l1_penalty = np.logspace(1,7,num=13)"
   ]
  },
  {
   "cell_type": "code",
   "execution_count": 42,
   "metadata": {},
   "outputs": [],
   "source": [
    "def l1_validation(X_train,X_val, features, target, l1_penalty):\n",
    "    model = linear_model.Lasso(alpha=l1_penalty, normalize=True)\n",
    "    model.fit(X_train[features],X_train[target])\n",
    "    RSS = ((X_val[target] - model.predict(X_val[features]))**2).sum()\n",
    "    return model, RSS\n"
   ]
  },
  {
   "cell_type": "markdown",
   "metadata": {},
   "source": [
    "### 6. Quiz Question: Which was the best value for the l1_penalty, i.e. which value of l1_penalty produced the lowest RSS on VALIDATION data?"
   ]
  },
  {
   "cell_type": "code",
   "execution_count": 40,
   "metadata": {},
   "outputs": [
    {
     "name": "stdout",
     "output_type": "stream",
     "text": [
      "The best L1 penality is:  10.0\n",
      "The best RSS value is:  398213327300134.25\n"
     ]
    }
   ],
   "source": [
    "best_RSS = 1e20\n",
    "best_l1 = 0\n",
    "for i in l1_penalty:\n",
    "    RSS = l1_validation(training,validation, all_features,'price',i)\n",
    "    if RSS < best_RSS:\n",
    "        best_RSS = RSS\n",
    "        best_l1 = i\n",
    "print('The best L1 penality is: ', best_l1)\n",
    "print('The best RSS value is: ', best_RSS)\n",
    "    "
   ]
  },
  {
   "cell_type": "code",
   "execution_count": 46,
   "metadata": {},
   "outputs": [
    {
     "data": {
      "text/plain": [
       "array([ -1.61445628e+04,   3.73245384e+02,   5.08412433e+04,\n",
       "         6.17853560e+02,  -4.44113549e+04,   7.85623065e-01,\n",
       "        -7.01194765e+02,  -0.00000000e+00,   5.01420046e+03,\n",
       "         6.19488752e+05,   3.80418557e+04,   2.49987718e+04,\n",
       "         1.28716235e+05,   0.00000000e+00,   0.00000000e+00,\n",
       "        -3.29383118e+03,   1.00573209e+01])"
      ]
     },
     "execution_count": 46,
     "metadata": {},
     "output_type": "execute_result"
    }
   ],
   "source": [
    "model, RSS = l1_validation(training, testing, all_features,'price',10)"
   ]
  },
  {
   "cell_type": "markdown",
   "metadata": {},
   "source": [
    "### 8. Quiz Question: Using the best L1 penalty, how many nonzero weights do you have? Count the number of nonzero coefficients firrst, and add 1 if the intercept is also nonzero."
   ]
  },
  {
   "cell_type": "code",
   "execution_count": 45,
   "metadata": {},
   "outputs": [
    {
     "data": {
      "text/plain": [
       "15"
      ]
     },
     "execution_count": 45,
     "metadata": {},
     "output_type": "execute_result"
    }
   ],
   "source": [
    "np.count_nonzero(model.coef_) + np.count_nonzero(model.intercept_)\n"
   ]
  },
  {
   "cell_type": "markdown",
   "metadata": {},
   "source": [
    "## 9. What if we absolutely wanted to limit ourselves to, say, 7 features? This may be important if we want to derive \"a rule of thumb\" --- an interpretable model that has only a few features in them.\n",
    "\n",
    "You are going to implement a simple, two phase procedure to achieve this goal:\n",
    "- Explore a large range of ‘l1_penalty’ values to find a narrow region of ‘l1_penalty’ values where models\n",
    "are likely to have the desired number of non-zero weights.\n",
    "- Further explore the narrow region you found to find a good value for ‘l1_penalty’ that achieves the\n",
    "desired sparsity. Here, we will again use a validation set to choose the best value for ‘l1_penalty’."
   ]
  },
  {
   "cell_type": "code",
   "execution_count": 57,
   "metadata": {
    "collapsed": true
   },
   "outputs": [],
   "source": [
    "max_nonzero = 7\n",
    "l1_penalty = np.logspace(1,4, num =20)\n",
    "def count_nonzero(model):\n",
    "    non_zero = np.count_nonzero(model.coef_) + np.count_nonzero(model.intercept_)\n",
    "    return non_zero\n",
    "\n",
    "def l1_range(X_train,features, target, l1_penalty):\n",
    "    model = linear_model.Lasso(alpha=l1_penalty, normalize=True)\n",
    "    model.fit(X_train[features],X_train[target])\n",
    "    \n",
    "    return  l1_penalty, count_nonzero(model), model.coef_\n"
   ]
  },
  {
   "cell_type": "code",
   "execution_count": null,
   "metadata": {
    "collapsed": true
   },
   "outputs": [],
   "source": []
  },
  {
   "cell_type": "markdown",
   "metadata": {},
   "source": [
    "## 12. Out of this large range, we want to find the two ends of our desired narrow range of l1_penalty. At one end, we will have l1_penalty values that have too few non-zeros, and at the other end, we will have an l1_penalty that has too many non-zeros.\n",
    "More formally,  find:\n",
    "- The largest l1_penalty that has more non-zeros than ‘max_nonzeros’ (if we pick a penalty smaller than\n",
    "this value, we will definitely have too many non-zero weights)Store this value in the variable\n",
    "‘l1_penalty_min’ (we will use it later)\n",
    "- The smallest l1_penalty that has fewer non-zeros than ‘max_nonzeros’ (if we pick a penalty larger than\n",
    "this value, we will definitely have too few non-zero weights)Store this value in the variable\n",
    "‘l1_penalty_max’ (we will use it later)"
   ]
  },
  {
   "cell_type": "code",
   "execution_count": 58,
   "metadata": {},
   "outputs": [],
   "source": [
    "l1_nonzero_range = []\n",
    "for i in l1_penalty:\n",
    "    l1_nonzero_range.append(l1_range(training, all_features,'price',i))\n",
    "    \n",
    "    "
   ]
  },
  {
   "cell_type": "markdown",
   "metadata": {},
   "source": [
    "### 13. Quiz Question: What values did you find for l1_penalty_min and l1_penalty_max?"
   ]
  },
  {
   "cell_type": "code",
   "execution_count": 67,
   "metadata": {
    "scrolled": false
   },
   "outputs": [
    {
     "name": "stdout",
     "output_type": "stream",
     "text": [
      "The largest L1 penality is:  127.42749857 . The # of non Zero term is:  10\n",
      "The smallest L1 penalty is:  263.665089873 . The # of non Zero term is:  6\n"
     ]
    }
   ],
   "source": [
    "l1_penalty_max= 0\n",
    "most_nonzero =0\n",
    "l1_penalty_min= 1e20\n",
    "least_non_zero = 0\n",
    "for i, n in enumerate(l1_nonzero_range):\n",
    "    if n[0] > l1_penalty_max and n[1] > max_nonzero:\n",
    "        l1_penalty_max = n[0]\n",
    "        most_nonzero = n[1]\n",
    "    elif n[0] < l1_penalty_min and n[1] < max_nonzero:\n",
    "        l1_penalty_min = n[0]\n",
    "        least_non_zero = n[1]\n",
    "\n",
    "print(\"The largest L1 penality is: \", l1_penalty_max,'. The # of non Zero term is: ', most_nonzero)\n",
    "print('The smallest L1 penalty is: ', l1_penalty_min, '. The # of non Zero term is: ', least_non_zero)"
   ]
  },
  {
   "cell_type": "markdown",
   "metadata": {},
   "source": [
    "### 15. Quiz Question: What value of l1_penalty in our narrow range has the lowest RSS on the VALIDATION set and has sparsity equal to ‘max_nonzeros’?\n",
    "### 16. Quiz Question: What features in this model have non-zero cofficients?"
   ]
  },
  {
   "cell_type": "code",
   "execution_count": 84,
   "metadata": {
    "scrolled": false
   },
   "outputs": [
    {
     "name": "stdout",
     "output_type": "stream",
     "text": [
      "The best L1 penality is:  156.109096739\n",
      "The best RSS value is:  440037365263316.94\n"
     ]
    }
   ],
   "source": [
    "test=[]\n",
    "best_RSS = 1e20\n",
    "best_l1 = 0\n",
    "l1_penalty = np.linspace(l1_penalty_min,l1_penalty_max,20)\n",
    "for i in l1_penalty:\n",
    "    model, RSS = l1_validation(training,validation, all_features,'price',i)\n",
    "    z = count_nonzero(model)\n",
    "    result = (z,RSS)\n",
    "    test.append(result)\n",
    "    if RSS < best_RSS and count_nonzero(model) == max_nonzero:\n",
    "        best_RSS = RSS\n",
    "        best_l1 = i\n",
    "print('The best L1 penality is: ', best_l1)\n",
    "print('The best RSS value is: ', best_RSS)\n",
    "    "
   ]
  },
  {
   "cell_type": "code",
   "execution_count": 88,
   "metadata": {},
   "outputs": [
    {
     "name": "stdout",
     "output_type": "stream",
     "text": [
      "2\n",
      "3\n",
      "9\n",
      "10\n",
      "12\n",
      "15\n"
     ]
    }
   ],
   "source": [
    "model, RSS = l1_validation(training,validation, all_features,'price',l1_penalty[15])\n",
    "for i, n in enumerate(model.coef_):\n",
    "    if n != 0:\n",
    "        print(i)"
   ]
  },
  {
   "cell_type": "code",
   "execution_count": 82,
   "metadata": {},
   "outputs": [
    {
     "data": {
      "text/plain": [
       "array([ 263.66508987,  256.49469033,  249.32429079,  242.15389125,\n",
       "        234.9834917 ,  227.81309216,  220.64269262,  213.47229308,\n",
       "        206.30189354,  199.13149399,  191.96109445,  184.79069491,\n",
       "        177.62029537,  170.44989582,  163.27949628,  156.10909674,\n",
       "        148.9386972 ,  141.76829765,  134.59789811,  127.42749857])"
      ]
     },
     "execution_count": 82,
     "metadata": {},
     "output_type": "execute_result"
    }
   ],
   "source": [
    "# def l1_validation(X_train,X_val, features, target, l1_penalty):\n",
    "#     model = linear_model.Lasso(alpha=l1_penalty, normalize=True)\n",
    "#     model.fit(X_train[features],X_train[target])\n",
    "#     RSS = ((X_val[target] - model.predict(X_val[features]))**2).sum()\n",
    "#     return model, RSS\n",
    "l1_penalty"
   ]
  },
  {
   "cell_type": "code",
   "execution_count": null,
   "metadata": {
    "collapsed": true
   },
   "outputs": [],
   "source": []
  }
 ],
 "metadata": {
  "kernelspec": {
   "display_name": "Python 3",
   "language": "python",
   "name": "python3"
  },
  "language_info": {
   "codemirror_mode": {
    "name": "ipython",
    "version": 3
   },
   "file_extension": ".py",
   "mimetype": "text/x-python",
   "name": "python",
   "nbconvert_exporter": "python",
   "pygments_lexer": "ipython3",
   "version": "3.6.3"
  }
 },
 "nbformat": 4,
 "nbformat_minor": 2
}
